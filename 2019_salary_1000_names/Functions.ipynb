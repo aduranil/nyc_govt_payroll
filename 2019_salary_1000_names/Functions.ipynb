{
 "cells": [
  {
   "cell_type": "code",
   "execution_count": 2,
   "metadata": {},
   "outputs": [],
   "source": [
    "def filter_result_by_year(result, year):\n",
    "    return result[result['fiscal_year'] == year]"
   ]
  },
  {
   "cell_type": "code",
   "execution_count": 3,
   "metadata": {},
   "outputs": [],
   "source": [
    "def filter_column_by_value(result, column, value):\n",
    "    return result[result[column].str.contains(value)]"
   ]
  },
  {
   "cell_type": "code",
   "execution_count": 4,
   "metadata": {},
   "outputs": [],
   "source": [
    "def add_count_of_value(result, new_column_name, value_count_column):\n",
    "    result[new_column_name] = result[value_count_column].map(result[value_count_column].value_counts())\n",
    "    return result"
   ]
  },
  {
   "cell_type": "code",
   "execution_count": 6,
   "metadata": {},
   "outputs": [],
   "source": [
    "def get_data_set(result, column, threshold, groupby_col, agg_call):\n",
    "    return result[result[column] > threshold].groupby([groupby_col, 'name_count']).agg({agg_call: np.mean}).sort_values(agg_call, ascending=False).reset_index()"
   ]
  },
  {
   "cell_type": "code",
   "execution_count": null,
   "metadata": {},
   "outputs": [],
   "source": [
    "def filter_greater_than(result, column, threshold):\n",
    "    return result[result[column] > threshold]"
   ]
  },
  {
   "cell_type": "code",
   "execution_count": 7,
   "metadata": {},
   "outputs": [],
   "source": [
    "def filter_less_than(result, column, threshold):\n",
    "    return result[result[column] < threshold]"
   ]
  },
  {
   "cell_type": "code",
   "execution_count": 8,
   "metadata": {},
   "outputs": [],
   "source": [
    "def filter_all(result, year, threshold):\n",
    "    updated_result = filter_result_by_year(result, year)\n",
    "    pay_basis_result = filter_column_by_value(updated_result, 'pay_basis', 'Hour')\n",
    "    greater_result = filter_greater_than(pay_basis_result, 'base_salary', 1)\n",
    "    lesser_result = filter_less_than(greater_result, 'base_salary', 20000)\n",
    "    with_names = add_count_of_value(lesser_result, 'name_count', 'first_name')\n",
    "    get_data_result(with_names, 'first_name', threshold, 'first_name', 'base_salary')\n",
    "    "
   ]
  },
  {
   "cell_type": "code",
   "execution_count": null,
   "metadata": {},
   "outputs": [],
   "source": [
    "def genderize(result):\n",
    "    result['gender'] = Genderize().get(result['first_name'])['gender']"
   ]
  }
 ],
 "metadata": {
  "kernelspec": {
   "display_name": "Python 3",
   "language": "python",
   "name": "python3"
  },
  "language_info": {
   "codemirror_mode": {
    "name": "ipython",
    "version": 3
   },
   "file_extension": ".py",
   "mimetype": "text/x-python",
   "name": "python",
   "nbconvert_exporter": "python",
   "pygments_lexer": "ipython3",
   "version": "3.6.6"
  }
 },
 "nbformat": 4,
 "nbformat_minor": 2
}
